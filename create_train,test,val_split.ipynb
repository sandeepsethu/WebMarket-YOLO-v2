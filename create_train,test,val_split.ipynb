{
  "cells": [
    {
      "cell_type": "markdown",
      "source": [
        "Creating train, test, val split for the YOLO model\n"
      ],
      "metadata": {
        "id": "tzkFn4HiFfmw"
      },
      "id": "tzkFn4HiFfmw"
    },
    {
      "cell_type": "code",
      "execution_count": null,
      "id": "d82862a9",
      "metadata": {
        "id": "d82862a9"
      },
      "outputs": [],
      "source": [
        "import torch\n",
        "from IPython.display import Image  # for displaying images\n",
        "import os \n",
        "import random\n",
        "import shutil\n",
        "from sklearn.model_selection import train_test_split\n",
        "import xml.etree.ElementTree as ET\n",
        "from xml.dom import minidom\n",
        "from tqdm import tqdm\n",
        "from PIL import Image, ImageDraw\n",
        "import numpy as np\n",
        "import matplotlib.pyplot as plt\n",
        "\n",
        "random.seed(108)"
      ]
    },
    {
      "cell_type": "code",
      "execution_count": null,
      "id": "8a450c3b",
      "metadata": {
        "id": "8a450c3b"
      },
      "outputs": [],
      "source": [
        "# Read images and annotations\n",
        "images = [os.path.join('./data/dataset/images', x) for x in os.listdir('./data/dataset/images')]\n",
        "labels = [os.path.join('./data/dataset/labels', x) for x in os.listdir('./data/dataset/labels') if x[-3:] == \"txt\"]\n",
        "\n",
        "images.sort()\n",
        "labels.sort()\n",
        "\n",
        "# Split the dataset into train-valid-test splits \n",
        "train_images, val_images, train_labels, val_labels = train_test_split(images, labels, test_size = 0.2, random_state = 1)\n",
        "val_images, test_images, val_labels, test_labels = train_test_split(val_images, val_labels, test_size = 0.5, random_state = 1)"
      ]
    },
    {
      "cell_type": "code",
      "execution_count": null,
      "id": "c8ea5491",
      "metadata": {
        "id": "c8ea5491"
      },
      "outputs": [],
      "source": [
        "!mkdir data/dataset/images/train data/dataset/images/val data/dataset/images/test data/dataset/labels/train data/dataset/labels/val data/dataset/labels/test"
      ]
    },
    {
      "cell_type": "markdown",
      "source": [
        "Saving the images according to the splits in the respective directories"
      ],
      "metadata": {
        "id": "Lu-1n3wWFmeT"
      },
      "id": "Lu-1n3wWFmeT"
    },
    {
      "cell_type": "code",
      "execution_count": null,
      "id": "c9c5ac43",
      "metadata": {
        "id": "c9c5ac43"
      },
      "outputs": [],
      "source": [
        "#Utility function to move images \n",
        "def move_files_to_folder(list_of_files, destination_folder):\n",
        "    for f in list_of_files:\n",
        "        try:\n",
        "            shutil.move(f, destination_folder)\n",
        "        except:\n",
        "            print(f)\n",
        "            assert False\n",
        "\n",
        "# Move the splits into their folders\n",
        "move_files_to_folder(train_images, './data/dataset/images/train')\n",
        "move_files_to_folder(val_images, './data/dataset/images/val/')\n",
        "move_files_to_folder(test_images, './data/dataset/images/test/')\n",
        "move_files_to_folder(train_labels, './data/dataset/labels/train/')\n",
        "move_files_to_folder(val_labels, './data/dataset/labels/val/')\n",
        "move_files_to_folder(test_labels, './data/dataset/labels/test/')\n",
        "\n"
      ]
    },
    {
      "cell_type": "code",
      "execution_count": null,
      "id": "d0b6051a",
      "metadata": {
        "id": "d0b6051a"
      },
      "outputs": [],
      "source": [
        ""
      ]
    }
  ],
  "metadata": {
    "kernelspec": {
      "display_name": "Python 3 (ipykernel)",
      "language": "python",
      "name": "python3"
    },
    "language_info": {
      "codemirror_mode": {
        "name": "ipython",
        "version": 3
      },
      "file_extension": ".py",
      "mimetype": "text/x-python",
      "name": "python",
      "nbconvert_exporter": "python",
      "pygments_lexer": "ipython3",
      "version": "3.9.12"
    },
    "colab": {
      "name": "create train,test,val split.ipynb",
      "provenance": [],
      "collapsed_sections": []
    }
  },
  "nbformat": 4,
  "nbformat_minor": 5
}